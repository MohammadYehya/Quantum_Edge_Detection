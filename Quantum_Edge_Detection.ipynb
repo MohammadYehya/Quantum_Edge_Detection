{
  "cells": [
    {
      "cell_type": "markdown",
      "source": [
        "#Dependencies"
      ],
      "metadata": {
        "id": "1t-r6w24lnQV"
      },
      "id": "1t-r6w24lnQV"
    },
    {
      "cell_type": "code",
      "source": [
        "!pip install qiskit==0.40.0\n",
        "!pip install pylatexenc"
      ],
      "metadata": {
        "colab": {
          "base_uri": "https://localhost:8080/"
        },
        "id": "ee7uPZiqVHNS",
        "outputId": "f17679a5-aa64-447a-f66a-6a4943b49869"
      },
      "id": "ee7uPZiqVHNS",
      "execution_count": 1,
      "outputs": [
        {
          "output_type": "stream",
          "name": "stdout",
          "text": [
            "Collecting qiskit==0.40.0\n",
            "  Downloading qiskit-0.40.0.tar.gz (14 kB)\n",
            "  Preparing metadata (setup.py) ... \u001b[?25l\u001b[?25hdone\n",
            "Collecting qiskit-terra==0.23.0 (from qiskit==0.40.0)\n",
            "  Downloading qiskit_terra-0.23.0-cp310-cp310-manylinux_2_17_x86_64.manylinux2014_x86_64.whl.metadata (9.6 kB)\n",
            "Collecting qiskit-aer==0.11.2 (from qiskit==0.40.0)\n",
            "  Downloading qiskit_aer-0.11.2-cp310-cp310-manylinux_2_17_x86_64.manylinux2014_x86_64.whl.metadata (6.2 kB)\n",
            "Collecting qiskit-ibmq-provider==0.19.2 (from qiskit==0.40.0)\n",
            "  Downloading qiskit_ibmq_provider-0.19.2-py3-none-any.whl.metadata (11 kB)\n",
            "Requirement already satisfied: numpy>=1.16.3 in /usr/local/lib/python3.10/dist-packages (from qiskit-aer==0.11.2->qiskit==0.40.0) (1.26.4)\n",
            "Requirement already satisfied: scipy>=1.0 in /usr/local/lib/python3.10/dist-packages (from qiskit-aer==0.11.2->qiskit==0.40.0) (1.13.1)\n",
            "Requirement already satisfied: requests>=2.19 in /usr/local/lib/python3.10/dist-packages (from qiskit-ibmq-provider==0.19.2->qiskit==0.40.0) (2.32.3)\n",
            "Collecting requests-ntlm>=1.1.0 (from qiskit-ibmq-provider==0.19.2->qiskit==0.40.0)\n",
            "  Downloading requests_ntlm-1.3.0-py3-none-any.whl.metadata (2.4 kB)\n",
            "Requirement already satisfied: urllib3>=1.21.1 in /usr/local/lib/python3.10/dist-packages (from qiskit-ibmq-provider==0.19.2->qiskit==0.40.0) (2.2.3)\n",
            "Requirement already satisfied: python-dateutil>=2.8.0 in /usr/local/lib/python3.10/dist-packages (from qiskit-ibmq-provider==0.19.2->qiskit==0.40.0) (2.8.2)\n",
            "Requirement already satisfied: websocket-client>=1.0.1 in /usr/local/lib/python3.10/dist-packages (from qiskit-ibmq-provider==0.19.2->qiskit==0.40.0) (1.8.0)\n",
            "Collecting websockets>=10.0 (from qiskit-ibmq-provider==0.19.2->qiskit==0.40.0)\n",
            "  Downloading websockets-14.1-cp310-cp310-manylinux_2_5_x86_64.manylinux1_x86_64.manylinux_2_17_x86_64.manylinux2014_x86_64.whl.metadata (6.7 kB)\n",
            "Collecting rustworkx>=0.12.0 (from qiskit-terra==0.23.0->qiskit==0.40.0)\n",
            "  Downloading rustworkx-0.15.1-cp38-abi3-manylinux_2_17_x86_64.manylinux2014_x86_64.whl.metadata (9.9 kB)\n",
            "Collecting ply>=3.10 (from qiskit-terra==0.23.0->qiskit==0.40.0)\n",
            "  Downloading ply-3.11-py2.py3-none-any.whl.metadata (844 bytes)\n",
            "Requirement already satisfied: psutil>=5 in /usr/local/lib/python3.10/dist-packages (from qiskit-terra==0.23.0->qiskit==0.40.0) (5.9.5)\n",
            "Requirement already satisfied: sympy>=1.3 in /usr/local/lib/python3.10/dist-packages (from qiskit-terra==0.23.0->qiskit==0.40.0) (1.13.1)\n",
            "Collecting dill>=0.3 (from qiskit-terra==0.23.0->qiskit==0.40.0)\n",
            "  Downloading dill-0.3.9-py3-none-any.whl.metadata (10 kB)\n",
            "Collecting stevedore>=3.0.0 (from qiskit-terra==0.23.0->qiskit==0.40.0)\n",
            "  Downloading stevedore-5.4.0-py3-none-any.whl.metadata (2.3 kB)\n",
            "Collecting symengine>=0.9 (from qiskit-terra==0.23.0->qiskit==0.40.0)\n",
            "  Downloading symengine-0.13.0-cp310-cp310-manylinux_2_17_x86_64.manylinux2014_x86_64.whl.metadata (1.2 kB)\n",
            "Requirement already satisfied: six>=1.5 in /usr/local/lib/python3.10/dist-packages (from python-dateutil>=2.8.0->qiskit-ibmq-provider==0.19.2->qiskit==0.40.0) (1.16.0)\n",
            "Requirement already satisfied: charset-normalizer<4,>=2 in /usr/local/lib/python3.10/dist-packages (from requests>=2.19->qiskit-ibmq-provider==0.19.2->qiskit==0.40.0) (3.4.0)\n",
            "Requirement already satisfied: idna<4,>=2.5 in /usr/local/lib/python3.10/dist-packages (from requests>=2.19->qiskit-ibmq-provider==0.19.2->qiskit==0.40.0) (3.10)\n",
            "Requirement already satisfied: certifi>=2017.4.17 in /usr/local/lib/python3.10/dist-packages (from requests>=2.19->qiskit-ibmq-provider==0.19.2->qiskit==0.40.0) (2024.8.30)\n",
            "Requirement already satisfied: cryptography>=1.3 in /usr/local/lib/python3.10/dist-packages (from requests-ntlm>=1.1.0->qiskit-ibmq-provider==0.19.2->qiskit==0.40.0) (43.0.3)\n",
            "Collecting pyspnego>=0.4.0 (from requests-ntlm>=1.1.0->qiskit-ibmq-provider==0.19.2->qiskit==0.40.0)\n",
            "  Downloading pyspnego-0.11.2-py3-none-any.whl.metadata (5.4 kB)\n",
            "Collecting pbr>=2.0.0 (from stevedore>=3.0.0->qiskit-terra==0.23.0->qiskit==0.40.0)\n",
            "  Downloading pbr-6.1.0-py2.py3-none-any.whl.metadata (3.4 kB)\n",
            "Requirement already satisfied: mpmath<1.4,>=1.1.0 in /usr/local/lib/python3.10/dist-packages (from sympy>=1.3->qiskit-terra==0.23.0->qiskit==0.40.0) (1.3.0)\n",
            "Requirement already satisfied: cffi>=1.12 in /usr/local/lib/python3.10/dist-packages (from cryptography>=1.3->requests-ntlm>=1.1.0->qiskit-ibmq-provider==0.19.2->qiskit==0.40.0) (1.17.1)\n",
            "Requirement already satisfied: pycparser in /usr/local/lib/python3.10/dist-packages (from cffi>=1.12->cryptography>=1.3->requests-ntlm>=1.1.0->qiskit-ibmq-provider==0.19.2->qiskit==0.40.0) (2.22)\n",
            "Downloading qiskit_aer-0.11.2-cp310-cp310-manylinux_2_17_x86_64.manylinux2014_x86_64.whl (12.8 MB)\n",
            "\u001b[2K   \u001b[90m━━━━━━━━━━━━━━━━━━━━━━━━━━━━━━━━━━━━━━━━\u001b[0m \u001b[32m12.8/12.8 MB\u001b[0m \u001b[31m7.8 MB/s\u001b[0m eta \u001b[36m0:00:00\u001b[0m\n",
            "\u001b[?25hDownloading qiskit_ibmq_provider-0.19.2-py3-none-any.whl (240 kB)\n",
            "\u001b[2K   \u001b[90m━━━━━━━━━━━━━━━━━━━━━━━━━━━━━━━━━━━━━━━━\u001b[0m \u001b[32m240.4/240.4 kB\u001b[0m \u001b[31m10.7 MB/s\u001b[0m eta \u001b[36m0:00:00\u001b[0m\n",
            "\u001b[?25hDownloading qiskit_terra-0.23.0-cp310-cp310-manylinux_2_17_x86_64.manylinux2014_x86_64.whl (5.1 MB)\n",
            "\u001b[2K   \u001b[90m━━━━━━━━━━━━━━━━━━━━━━━━━━━━━━━━━━━━━━━━\u001b[0m \u001b[32m5.1/5.1 MB\u001b[0m \u001b[31m13.5 MB/s\u001b[0m eta \u001b[36m0:00:00\u001b[0m\n",
            "\u001b[?25hDownloading dill-0.3.9-py3-none-any.whl (119 kB)\n",
            "\u001b[2K   \u001b[90m━━━━━━━━━━━━━━━━━━━━━━━━━━━━━━━━━━━━━━━━\u001b[0m \u001b[32m119.4/119.4 kB\u001b[0m \u001b[31m2.1 MB/s\u001b[0m eta \u001b[36m0:00:00\u001b[0m\n",
            "\u001b[?25hDownloading ply-3.11-py2.py3-none-any.whl (49 kB)\n",
            "\u001b[2K   \u001b[90m━━━━━━━━━━━━━━━━━━━━━━━━━━━━━━━━━━━━━━━━\u001b[0m \u001b[32m49.6/49.6 kB\u001b[0m \u001b[31m1.5 MB/s\u001b[0m eta \u001b[36m0:00:00\u001b[0m\n",
            "\u001b[?25hDownloading requests_ntlm-1.3.0-py3-none-any.whl (6.6 kB)\n",
            "Downloading rustworkx-0.15.1-cp38-abi3-manylinux_2_17_x86_64.manylinux2014_x86_64.whl (2.0 MB)\n",
            "\u001b[2K   \u001b[90m━━━━━━━━━━━━━━━━━━━━━━━━━━━━━━━━━━━━━━━━\u001b[0m \u001b[32m2.0/2.0 MB\u001b[0m \u001b[31m15.4 MB/s\u001b[0m eta \u001b[36m0:00:00\u001b[0m\n",
            "\u001b[?25hDownloading stevedore-5.4.0-py3-none-any.whl (49 kB)\n",
            "\u001b[2K   \u001b[90m━━━━━━━━━━━━━━━━━━━━━━━━━━━━━━━━━━━━━━━━\u001b[0m \u001b[32m49.5/49.5 kB\u001b[0m \u001b[31m3.4 MB/s\u001b[0m eta \u001b[36m0:00:00\u001b[0m\n",
            "\u001b[?25hDownloading symengine-0.13.0-cp310-cp310-manylinux_2_17_x86_64.manylinux2014_x86_64.whl (49.7 MB)\n",
            "\u001b[2K   \u001b[90m━━━━━━━━━━━━━━━━━━━━━━━━━━━━━━━━━━━━━━━━\u001b[0m \u001b[32m49.7/49.7 MB\u001b[0m \u001b[31m11.4 MB/s\u001b[0m eta \u001b[36m0:00:00\u001b[0m\n",
            "\u001b[?25hDownloading websockets-14.1-cp310-cp310-manylinux_2_5_x86_64.manylinux1_x86_64.manylinux_2_17_x86_64.manylinux2014_x86_64.whl (168 kB)\n",
            "\u001b[2K   \u001b[90m━━━━━━━━━━━━━━━━━━━━━━━━━━━━━━━━━━━━━━━━\u001b[0m \u001b[32m168.2/168.2 kB\u001b[0m \u001b[31m8.9 MB/s\u001b[0m eta \u001b[36m0:00:00\u001b[0m\n",
            "\u001b[?25hDownloading pbr-6.1.0-py2.py3-none-any.whl (108 kB)\n",
            "\u001b[2K   \u001b[90m━━━━━━━━━━━━━━━━━━━━━━━━━━━━━━━━━━━━━━━━\u001b[0m \u001b[32m108.5/108.5 kB\u001b[0m \u001b[31m6.8 MB/s\u001b[0m eta \u001b[36m0:00:00\u001b[0m\n",
            "\u001b[?25hDownloading pyspnego-0.11.2-py3-none-any.whl (130 kB)\n",
            "\u001b[2K   \u001b[90m━━━━━━━━━━━━━━━━━━━━━━━━━━━━━━━━━━━━━━━━\u001b[0m \u001b[32m130.5/130.5 kB\u001b[0m \u001b[31m8.8 MB/s\u001b[0m eta \u001b[36m0:00:00\u001b[0m\n",
            "\u001b[?25hBuilding wheels for collected packages: qiskit\n",
            "  Building wheel for qiskit (setup.py) ... \u001b[?25l\u001b[?25hdone\n",
            "  Created wheel for qiskit: filename=qiskit-0.40.0-py3-none-any.whl size=12819 sha256=c80c16fe58c8a93ac7380171a062adb4b46d085602abc5d7e4bd62b2b7b29d53\n",
            "  Stored in directory: /root/.cache/pip/wheels/d1/bf/10/715a4a111d2f4ca16fb3679b54a51742d6f6be0488e27842e7\n",
            "Successfully built qiskit\n",
            "Installing collected packages: ply, websockets, symengine, rustworkx, pbr, dill, stevedore, qiskit-terra, pyspnego, requests-ntlm, qiskit-aer, qiskit-ibmq-provider, qiskit\n",
            "Successfully installed dill-0.3.9 pbr-6.1.0 ply-3.11 pyspnego-0.11.2 qiskit-0.40.0 qiskit-aer-0.11.2 qiskit-ibmq-provider-0.19.2 qiskit-terra-0.23.0 requests-ntlm-1.3.0 rustworkx-0.15.1 stevedore-5.4.0 symengine-0.13.0 websockets-14.1\n",
            "Collecting pylatexenc\n",
            "  Downloading pylatexenc-2.10.tar.gz (162 kB)\n",
            "\u001b[2K     \u001b[90m━━━━━━━━━━━━━━━━━━━━━━━━━━━━━━━━━━━━━━━━\u001b[0m \u001b[32m162.6/162.6 kB\u001b[0m \u001b[31m9.7 MB/s\u001b[0m eta \u001b[36m0:00:00\u001b[0m\n",
            "\u001b[?25h  Preparing metadata (setup.py) ... \u001b[?25l\u001b[?25hdone\n",
            "Building wheels for collected packages: pylatexenc\n",
            "  Building wheel for pylatexenc (setup.py) ... \u001b[?25l\u001b[?25hdone\n",
            "  Created wheel for pylatexenc: filename=pylatexenc-2.10-py3-none-any.whl size=136816 sha256=b29501b9961fff881ac3acd8b982d1faa00f942aa225603fe21f59868a9c1d93\n",
            "  Stored in directory: /root/.cache/pip/wheels/d3/31/8b/e09b0386afd80cfc556c00408c9aeea5c35c4d484a9c762fd5\n",
            "Successfully built pylatexenc\n",
            "Installing collected packages: pylatexenc\n",
            "Successfully installed pylatexenc-2.10\n"
          ]
        }
      ]
    },
    {
      "cell_type": "code",
      "source": [
        "from skimage.metrics import mean_squared_error, structural_similarity\n",
        "from skimage.transform import resize\n",
        "from matplotlib import pyplot as plt\n",
        "from qiskit import QuantumCircuit, QuantumRegister, ClassicalRegister\n",
        "from qiskit.circuit.library.standard_gates import RYGate\n",
        "from qiskit import execute, Aer\n",
        "from qiskit import transpile\n",
        "from scipy.signal import convolve2d\n",
        "from PIL import Image\n",
        "import numpy"
      ],
      "metadata": {
        "id": "87oltgKPm6vD"
      },
      "id": "87oltgKPm6vD",
      "execution_count": 150,
      "outputs": []
    },
    {
      "cell_type": "markdown",
      "source": [
        "#Images"
      ],
      "metadata": {
        "id": "tfjXwXEC1iUC"
      },
      "id": "tfjXwXEC1iUC"
    },
    {
      "cell_type": "code",
      "source": [
        "image1 = [[0, 0, 0, 0, 0, 0, 0, 0],\n",
        "          [0, 0, 0, 0, 0, 0, 0, 0],\n",
        "          [0, 0, 1, 1, 0, 0, 0, 0],\n",
        "          [0, 0, 1, 1, 0, 0, 0, 0],\n",
        "          [0, 0, 1, 1, 1, 1, 0, 0],\n",
        "          [0, 0, 1, 1, 1, 1, 0, 0],\n",
        "          [0, 0, 0, 0, 0, 0, 0, 0],\n",
        "          [0, 0, 0, 0, 0, 0, 0, 0]]\n",
        "\n",
        "image2 = [[0, 0, 1, 1, 1, 0, 0, 0],\n",
        "          [0, 0, 1, 1, 1, 0, 0, 0],\n",
        "          [0, 0, 1, 1, 1, 0, 0, 0],\n",
        "          [0, 0, 1, 1, 1, 0, 0, 0],\n",
        "          [0, 0, 1, 1, 1, 0, 0, 0],\n",
        "          [0, 0, 1, 1, 1, 0, 0, 0],\n",
        "          [0, 0, 1, 1, 1, 0, 0, 0],\n",
        "          [0, 0, 1, 1, 1, 0, 0, 0]]\n",
        "\n",
        "image3 = [[0, 0, 0, 0, 0, 0, 0, 0],\n",
        "          [0, 0, 0, 0, 0, 0, 0, 0],\n",
        "          [0, 0, 1, 1, 1, 0, 0, 0],\n",
        "          [0, 0, 1, 1, 1, 0, 0, 0],\n",
        "          [0, 0, 1, 1, 1, 1, 0, 0],\n",
        "          [0, 0, 0, 0, 1, 1, 1, 0],\n",
        "          [0, 0, 0, 0, 0, 1, 1, 0],\n",
        "          [0, 0, 0, 0, 0, 0, 0, 0]]\n",
        "\n",
        "image4 = [[0,0,0,0,0,0,0,0,0,0,0,0,0,0,0,0],\n",
        "          [0,1,1,1,1,1,1,1,1,1,1,1,1,1,1,0],\n",
        "          [0,1,1,1,1,1,1,1,1,1,1,1,1,1,1,0],\n",
        "          [0,1,1,1,1,1,1,1,1,1,1,1,1,1,1,0],\n",
        "          [0,1,1,1,0,0,0,0,0,0,0,0,1,1,1,0],\n",
        "          [0,1,1,1,0,0,0,0,0,0,0,0,1,1,1,0],\n",
        "          [0,1,1,1,0,0,0,0,0,0,0,0,1,1,1,0],\n",
        "          [0,1,1,1,0,0,0,0,0,0,0,0,1,1,1,0],\n",
        "          [0,1,1,1,0,0,0,0,0,0,0,0,1,1,1,0],\n",
        "          [0,1,1,1,0,0,0,0,0,0,0,0,1,1,1,0],\n",
        "          [0,1,1,1,0,0,0,0,0,0,0,0,1,1,1,0],\n",
        "          [0,1,1,1,0,0,0,0,0,0,0,0,1,1,1,0],\n",
        "          [0,1,1,1,1,1,1,1,1,1,1,1,1,1,1,0],\n",
        "          [0,1,1,1,1,1,1,1,1,1,1,1,1,1,1,0],\n",
        "          [0,1,1,1,1,1,1,1,1,1,1,1,1,1,1,0],\n",
        "          [0,0,0,0,0,0,0,0,0,0,0,0,0,0,0,0],]\n",
        "\n",
        "image5 = [[0,0,0,0,0,0,0,0,0,0,0,0,0,0,0,0,0,0,0,0,0,0,0,0,0,0,0,0,0,0,0,0],\n",
        "          [0,0,0,0,0,0,0,0,0,0,0,0,0,0,0,0,0,0,0,0,0,0,0,0,0,0,0,0,0,0,0,0],\n",
        "          [0,0,0,0,0,0,0,0,0,0,0,0,0,0,0,1,1,0,0,0,0,0,0,0,0,0,0,0,0,0,0,0],\n",
        "          [0,0,0,0,0,0,0,0,0,0,0,0,0,0,1,1,1,1,0,0,0,0,0,0,0,0,0,0,0,0,0,0],\n",
        "          [0,0,0,0,0,0,0,0,0,0,0,0,0,1,1,1,1,1,1,0,0,0,0,0,0,0,0,0,0,0,0,0],\n",
        "          [0,0,0,0,0,0,0,0,0,0,0,0,1,1,1,1,1,1,1,1,0,0,0,0,0,0,0,0,0,0,0,0],\n",
        "          [0,0,0,0,0,0,0,0,0,0,0,1,1,1,1,1,1,1,1,1,1,0,0,0,0,0,0,0,0,0,0,0],\n",
        "          [0,0,0,0,0,0,0,0,0,0,1,1,1,1,1,1,1,1,1,1,1,1,0,0,0,0,0,0,0,0,0,0],\n",
        "          [0,0,0,0,0,0,0,0,0,1,1,1,1,1,1,1,1,1,1,1,1,1,1,0,0,0,0,0,0,0,0,0],\n",
        "          [0,0,0,0,0,0,0,0,1,1,1,1,1,1,1,1,1,1,1,1,1,1,1,1,0,0,0,0,0,0,0,0],\n",
        "          [0,0,0,0,0,0,0,0,0,0,0,0,0,0,1,1,1,1,0,0,0,0,0,0,0,0,0,0,0,0,0,0],\n",
        "          [0,0,0,0,0,0,0,0,0,0,0,0,0,0,1,1,1,1,0,0,0,0,0,0,0,0,0,0,0,0,0,0],\n",
        "          [0,0,0,0,0,0,0,0,0,0,0,0,0,0,1,1,1,1,0,0,0,0,0,0,0,0,0,0,0,0,0,0],\n",
        "          [0,0,0,0,0,0,0,0,0,0,0,0,0,0,1,1,1,1,0,0,0,0,0,0,0,0,0,0,0,0,0,0],\n",
        "          [0,0,0,0,1,1,1,0,0,0,0,0,0,0,1,1,1,1,0,0,0,0,0,0,0,1,1,1,0,0,0,0],\n",
        "          [0,0,0,0,1,1,1,0,0,0,0,0,0,0,1,1,1,1,0,0,0,0,0,0,0,1,1,1,0,0,0,0],\n",
        "          [0,0,0,0,1,1,1,0,0,0,0,0,0,0,1,1,1,1,0,0,0,0,0,0,0,1,1,1,0,0,0,0],\n",
        "          [0,0,0,0,0,0,0,0,0,0,0,0,0,0,1,1,1,1,0,0,0,0,0,0,0,0,0,0,0,0,0,0],\n",
        "          [0,0,0,0,0,0,0,0,0,0,0,0,0,0,1,1,1,1,0,0,0,0,0,0,0,0,0,0,0,0,0,0],\n",
        "          [0,0,0,0,0,0,0,0,0,0,0,0,0,0,1,1,1,1,0,0,0,0,0,0,0,0,0,0,0,0,0,0],\n",
        "          [0,0,0,0,0,0,0,0,0,0,0,0,0,0,1,1,1,1,0,0,0,0,0,0,0,0,0,0,0,0,0,0],\n",
        "          [0,0,0,0,0,0,0,0,0,0,0,0,0,0,1,1,1,1,0,0,0,0,0,0,0,0,0,0,0,0,0,0],\n",
        "          [0,0,0,0,0,0,0,0,0,0,0,0,0,0,1,1,1,1,0,0,0,0,0,0,0,0,0,0,0,0,0,0],\n",
        "          [0,0,0,0,0,0,0,0,1,1,1,1,1,1,1,1,1,1,1,1,1,1,1,1,0,0,0,0,0,0,0,0],\n",
        "          [0,0,0,0,0,0,0,0,0,1,1,1,1,1,1,1,1,1,1,1,1,1,1,0,0,0,0,0,0,0,0,0],\n",
        "          [0,0,0,0,0,0,0,0,0,0,1,1,1,1,1,1,1,1,1,1,1,1,0,0,0,0,0,0,0,0,0,0],\n",
        "          [0,0,0,0,0,0,0,0,0,0,0,1,1,1,1,1,1,1,1,1,1,0,0,0,0,0,0,0,0,0,0,0],\n",
        "          [0,0,0,0,0,0,0,0,0,0,0,0,1,1,1,1,1,1,1,1,0,0,0,0,0,0,0,0,0,0,0,0],\n",
        "          [0,0,0,0,0,0,0,0,0,0,0,0,0,1,1,1,1,1,1,0,0,0,0,0,0,0,0,0,0,0,0,0],\n",
        "          [0,0,0,0,0,0,0,0,0,0,0,0,0,0,1,1,1,1,0,0,0,0,0,0,0,0,0,0,0,0,0,0],\n",
        "          [0,0,0,0,0,0,0,0,0,0,0,0,0,0,0,1,1,0,0,0,0,0,0,0,0,0,0,0,0,0,0,0],\n",
        "          [0,0,0,0,0,0,0,0,0,0,0,0,0,0,0,0,0,0,0,0,0,0,0,0,0,0,0,0,0,0,0,0]]"
      ],
      "metadata": {
        "id": "Nu7vJ6lh1hFb"
      },
      "id": "Nu7vJ6lh1hFb",
      "execution_count": 100,
      "outputs": []
    },
    {
      "cell_type": "markdown",
      "source": [
        "#Base Encoder"
      ],
      "metadata": {
        "id": "FaQLe-5LuNzE"
      },
      "id": "FaQLe-5LuNzE"
    },
    {
      "cell_type": "code",
      "source": [
        "class QuantumEncoder:\n",
        "    def __init__(self):\n",
        "        self.Qregs : QuantumRegister = None\n",
        "        self.Cregs : ClassicalRegister = None\n",
        "        self.Qcirc : QuantumCircuit = None\n",
        "        self.Qcirc2 : QuantumCircuit = None\n",
        "\n",
        "    def createQuantumCircuit(self, *regs) -> None :\n",
        "        return QuantumCircuit(*regs)\n",
        "\n",
        "    def preProcessImage(self, image : Image.Image) -> Image.Image :\n",
        "        '''\n",
        "            This function makes sure that an image is in the form of 2^nx2^n.\n",
        "            This is done since most encoders manage images of these size since\n",
        "            it requires correct number of qubits.\n",
        "        '''\n",
        "        image = image.convert('L')  #Converting to Grayscale\n",
        "        img = numpy.array(image)    #Converting image to a numpy array\n",
        "        squareSize = max(2**int(numpy.ceil(numpy.log2(image.size[0]))), 2**int(numpy.ceil(numpy.log2(image.size[1]))))  #Calculating size of square to accomodate image\n",
        "        new_img = numpy.zeros((squareSize,squareSize))  #Creating an array to store new image\n",
        "        for i in range(image.size[1]):\n",
        "            for j in range(image.size[0]):\n",
        "                new_img[i, j] = img[i, j]\n",
        "        return Image.fromarray(new_img)\n",
        "\n",
        "    def encode(self, image : Image.Image) -> None :\n",
        "        pass\n",
        "\n",
        "    def decode(self, circuit : QuantumCircuit) -> None:\n",
        "        pass\n",
        "\n",
        "    def detectEdges(self, image:Image.Image):\n",
        "        pass\n",
        "\n",
        "    def calculateMSE(self, image1 : Image.Image, image2 : Image.Image):\n",
        "        img1_array = numpy.array(image1)\n",
        "        img2_array = numpy.array(image2)\n",
        "        mse = mean_squared_error(img1_array, img2_array)\n",
        "        return mse\n",
        "\n",
        "    def calculateSSI(self, image1 : Image.Image, image2 : Image.Image):\n",
        "        img1_array = numpy.array(image1)\n",
        "        img2_array = numpy.array(image2)\n",
        "        ssim = structural_similarity(img1_array, img2_array, multichannel=False, data_range=255)\n",
        "        return ssim"
      ],
      "metadata": {
        "id": "ESdUToLRlg6T"
      },
      "id": "ESdUToLRlg6T",
      "execution_count": 4,
      "outputs": []
    },
    {
      "cell_type": "code",
      "source": [
        "def showdiff(Encoder : QuantumEncoder, *images : Image.Image):\n",
        "    # print('MSE: ',Encoder.calculateMSE(image1, image2))\n",
        "    # try:\n",
        "    #     print('SSI: ', Encoder.calculateSSI(image1, image2))\n",
        "    # except:\n",
        "    #     pass\n",
        "    fig = plt.figure()\n",
        "    for i in range(len(images)):\n",
        "        fig.add_subplot(1,len(images),i+1)\n",
        "        plt.imshow(images[i], cmap='gray')\n",
        "    plt.show()"
      ],
      "metadata": {
        "id": "29kxiUvqET-o"
      },
      "id": "29kxiUvqET-o",
      "execution_count": 80,
      "outputs": []
    },
    {
      "cell_type": "markdown",
      "source": [
        "#QPIE"
      ],
      "metadata": {
        "id": "Y4jAkO0XleYm"
      },
      "id": "Y4jAkO0XleYm"
    },
    {
      "cell_type": "code",
      "source": [
        "class QPIE(QuantumEncoder):\n",
        "    def __init__(self):\n",
        "        pass\n",
        "\n",
        "    def amplitudeEncoder(self, img : numpy.ndarray) :\n",
        "        img = img.astype(numpy.float64)\n",
        "        rms = numpy.sqrt(numpy.sum(numpy.sum(img**2, axis=1)))\n",
        "        amplitudes = (img/rms).reshape(img.shape[0]**2)\n",
        "        # print(amplitudes)\n",
        "        # print(numpy.sum(amplitudes**2))\n",
        "        return amplitudes\n",
        "\n",
        "    def encode(self, image : Image.Image) -> None :\n",
        "        img = numpy.array(image)\n",
        "        h_amplitudes = self.amplitudeEncoder(img)\n",
        "        v_amplitudes = self.amplitudeEncoder(img.T)\n",
        "\n",
        "        controlbits = int(2 * numpy.log2(img.shape[0]))\n",
        "        unitaryMatrix = numpy.identity(2**(controlbits+1))\n",
        "        unitaryMatrix = numpy.roll(unitaryMatrix,1,axis=1)\n",
        "\n",
        "        # positions = QuantumRegister(controlbits, 'position')\n",
        "        # target = QuantumRegister(1, 'target')\n",
        "        # classical = ClassicalRegister(controlbits+1, 'measure')\n",
        "\n",
        "\n",
        "        # self.Qcirc = self.createQuantumCircuit(positions, target, classical)\n",
        "        self.Qcirc = QuantumCircuit(controlbits+1)\n",
        "        self.Qcirc.initialize(h_amplitudes, range(1, controlbits+1))\n",
        "        self.Qcirc.h(0)\n",
        "        self.Qcirc.unitary(unitaryMatrix, range(controlbits+1))\n",
        "        self.Qcirc.h(0)\n",
        "\n",
        "        # self.Qcirc2 = self.createQuantumCircuit(positions, target, classical)\n",
        "        self.Qcirc2 = QuantumCircuit(controlbits+1)\n",
        "        self.Qcirc2.initialize(v_amplitudes, range(1, controlbits+1))\n",
        "        self.Qcirc2.h(0)\n",
        "        self.Qcirc2.unitary(unitaryMatrix, range(controlbits+1))\n",
        "        self.Qcirc2.h(0)\n",
        "\n",
        "        # print(self.Qcirc)\n",
        "        # self.Qcirc2.draw('mpl', fold=-1)\n",
        "\n",
        "    def decode(self, simulator : str, shots: int = 2**16) -> Image.Image :\n",
        "        pass\n",
        "\n",
        "    def detectEdges(self) -> Image.Image:\n",
        "        back = Aer.get_backend('statevector_simulator')\n",
        "        # self.Qcirc2.draw('mpl', fold=-1)\n",
        "        results = execute([self.Qcirc, self.Qcirc2], backend=back).result()\n",
        "        state_vector_h = results.get_statevector(self.Qcirc)\n",
        "        state_vector_v = results.get_statevector(self.Qcirc2)\n",
        "\n",
        "        size = int(2**((self.Qcirc.num_qubits-1)/2))\n",
        "        threshold = lambda amp: (amp > 1e-15 or amp < -1e-15)\n",
        "        h_edge_scan_img = numpy.abs(numpy.array([1 if threshold(state_vector_h[(2*i)+1].real) else 0 for i in range(2**(self.Qcirc.num_qubits-1))])).reshape(size, size)\n",
        "        v_edge_scan_img = numpy.abs(numpy.array([1 if threshold(state_vector_v[(2*i)+1].real) else 0 for i in range(2**(self.Qcirc2.num_qubits-1))])).reshape(size, size).T\n",
        "\n",
        "        edge_scan_image = h_edge_scan_img | v_edge_scan_img\n",
        "        return edge_scan_image, h_edge_scan_img, v_edge_scan_img"
      ],
      "metadata": {
        "id": "-gRag1vumbEu"
      },
      "id": "-gRag1vumbEu",
      "execution_count": 5,
      "outputs": []
    },
    {
      "cell_type": "code",
      "source": [
        "Encoder = QPIE()\n",
        "\n",
        "# image1 = Encoder.preProcessImage(Image.open('./testimages/test4edges.png').convert('L'))\n",
        "img = image5\n",
        "Encoder.encode(img)\n",
        "outimage,h,v = Encoder.detectEdges()\n",
        "showdiff(Encoder, img, h, v, outimage)"
      ],
      "metadata": {
        "colab": {
          "base_uri": "https://localhost:8080/",
          "height": 172
        },
        "id": "XW3t1E-smesO",
        "outputId": "4322f69b-9ded-43ac-81e1-9a76364ff072"
      },
      "id": "XW3t1E-smesO",
      "execution_count": 149,
      "outputs": [
        {
          "output_type": "display_data",
          "data": {
            "text/plain": [
              "<Figure size 640x480 with 4 Axes>"
            ],
            "image/png": "[encoded data removed]"
          },
          "metadata": {}
        }
      ]
    },
    {
      "cell_type": "markdown",
      "source": [
        "#FRQI"
      ],
      "metadata": {
        "id": "APDKuVr5uCFT"
      },
      "id": "APDKuVr5uCFT"
    },
    {
      "cell_type": "code",
      "source": [
        "class FRQI(QuantumEncoder):\n",
        "    def __init__(self):\n",
        "        pass\n",
        "\n",
        "    def encode(self, image : Image.Image) -> None :\n",
        "        '''\n",
        "            This function encodes the corresponding angle values of each element\n",
        "            onto the Quantum Circuit.\n",
        "        '''\n",
        "        angles_h = numpy.arcsin(numpy.array(image))\n",
        "        angles_h = angles_h.reshape(angles_h.shape[0]**2)\n",
        "        angles_v = numpy.arcsin(numpy.array(image).T)\n",
        "        angles_v = angles_v.reshape(angles_v.shape[0]**2)\n",
        "\n",
        "        controlbits = int(numpy.log2(angles_h.shape[0]))\n",
        "        positions1 = QuantumRegister(controlbits, 'position')\n",
        "        target1 = QuantumRegister(1, 'target')\n",
        "        classical1 = ClassicalRegister(controlbits+1, 'measure')\n",
        "        positions2 = QuantumRegister(controlbits, 'position')\n",
        "        target2 = QuantumRegister(1, 'target')\n",
        "        classical2 = ClassicalRegister(controlbits+1, 'measure')\n",
        "        self.Qcirc = self.createQuantumCircuit(target1, positions1, classical1)\n",
        "        self.Qcirc2 = self.createQuantumCircuit(target2, positions2, classical2)\n",
        "\n",
        "        #FRQI process starts here\n",
        "        for i in range(1, controlbits+1):\n",
        "            self.Qcirc.h(i)\n",
        "            self.Qcirc2.h(i)\n",
        "\n",
        "        j = 0\n",
        "        for i in angles_h:\n",
        "            state = '{0:0{1}b}'.format(j - 1, controlbits)\n",
        "            new_state = '{0:0{1}b}'.format(j, controlbits)\n",
        "            if j != 0:\n",
        "                c = numpy.array([])\n",
        "                for k in range(controlbits):\n",
        "                    if state[k] != new_state[k]:\n",
        "                        c = numpy.append(c, int(k))\n",
        "                if len(c) > 0:\n",
        "                    self.Qcirc.x(numpy.abs(c.astype(int) - (controlbits)))\n",
        "            cry = RYGate(2 * i).control(controlbits)\n",
        "            aux = numpy.append([k+1 for k in range(controlbits)], 0).tolist()\n",
        "            self.Qcirc.append(cry, aux)\n",
        "            j += 1\n",
        "\n",
        "        self.Qcirc.measure(0, 0)\n",
        "        self.Qcirc.x(target1[0]).c_if(classical1, 0)\n",
        "\n",
        "        j = 0\n",
        "        for i in angles_v:\n",
        "            state = '{0:0{1}b}'.format(j - 1, controlbits)\n",
        "            new_state = '{0:0{1}b}'.format(j, controlbits)\n",
        "            if j != 0:\n",
        "                c = numpy.array([])\n",
        "                for k in range(controlbits):\n",
        "                    if state[k] != new_state[k]:\n",
        "                        c = numpy.append(c, int(k))\n",
        "                if len(c) > 0:\n",
        "                    self.Qcirc2.x(numpy.abs(c.astype(int) - (controlbits)))\n",
        "            cry = RYGate(2 * i).control(controlbits)\n",
        "            aux = numpy.append([k+1 for k in range(controlbits)], 0).tolist()\n",
        "            self.Qcirc2.append(cry, aux)\n",
        "            j += 1\n",
        "\n",
        "        self.Qcirc2.measure(0, 0)\n",
        "        self.Qcirc2.x(target2[0]).c_if(classical2, 0)\n",
        "\n",
        "        unitaryMatrix = numpy.identity(2**(controlbits+1))\n",
        "        unitaryMatrix = numpy.roll(unitaryMatrix,1,axis=1)\n",
        "\n",
        "        self.Qcirc.h(0)\n",
        "        self.Qcirc.unitary(unitaryMatrix, range(controlbits+1))\n",
        "        self.Qcirc.h(0)\n",
        "\n",
        "        self.Qcirc2.h(0)\n",
        "        self.Qcirc2.unitary(unitaryMatrix, range(controlbits+1))\n",
        "        self.Qcirc2.h(0)\n",
        "\n",
        "        # self.Qcirc.measure(0,0)\n",
        "        # self.Qcirc2.measure(0,0)\n",
        "\n",
        "    # def decode(self, simulator : str, shots: int = 2**16) -> Image.Image:\n",
        "    #     n = [i for i in range(self.Qcirc.num_qubits)]\n",
        "    #     self.Qcirc.measure(n, n)\n",
        "    #     backend_sim = Aer.get_backend(simulator)\n",
        "\n",
        "    #     job = execute(self.Qcirc, backend_sim, shots=shots)\n",
        "    #     result = job.result()\n",
        "    #     counts = result.get_counts(self.Qcirc)\n",
        "\n",
        "    #     pixels = 2 ** (self.Qcirc.num_qubits - 1)\n",
        "    #     picture_side = int(numpy.sqrt(pixels))\n",
        "    #     binary_length = self.Qcirc.num_qubits - 1\n",
        "\n",
        "    #     shots = counts.shots()\n",
        "\n",
        "    #     retrieved_image = numpy.array([])\n",
        "    #     for i in range(pixels):\n",
        "    #         try:\n",
        "    #             s = format(i, '0{0}b'.format(binary_length))\n",
        "    #             new_s = '1' + s\n",
        "    #             retrieved_image = numpy.append(retrieved_image, numpy.sqrt(counts[new_s] / shots))\n",
        "    #         except KeyError:\n",
        "    #             retrieved_image = numpy.append(retrieved_image, [0.0])\n",
        "\n",
        "    #     retrieved_image = numpy.real(retrieved_image)\n",
        "    #     retrieved_image *= picture_side * 255.0\n",
        "    #     retrieved_image = numpy.floor((retrieved_image/100))\n",
        "    #     retrieved_image = retrieved_image.astype(numpy.uint8)\n",
        "    #     retrieved_image = retrieved_image.reshape((picture_side, picture_side))\n",
        "    #     return Image.fromarray(retrieved_image)\n",
        "\n",
        "    def detectEdges(self) -> Image.Image:\n",
        "        back = Aer.get_backend('statevector_simulator')\n",
        "        results = execute([self.Qcirc, self.Qcirc2], backend=back).result()\n",
        "        state_vector_h = results.get_statevector(self.Qcirc)\n",
        "        state_vector_v = results.get_statevector(self.Qcirc2)\n",
        "\n",
        "\n",
        "        size = int(2**((self.Qcirc.num_qubits-1)/2))\n",
        "        threshold = lambda amp: (amp > 1e-15 or amp < -1e-15)\n",
        "        h_edge_scan_img = numpy.abs(numpy.array([1 if threshold(state_vector_h[(2*i)+1].real) else 0 for i in range(2**(self.Qcirc.num_qubits-1))])).reshape(size, size)\n",
        "        v_edge_scan_img = numpy.abs(numpy.array([1 if threshold(state_vector_v[(2*i)+1].real) else 0 for i in range(2**(self.Qcirc2.num_qubits-1))])).reshape(size, size).T\n",
        "\n",
        "        edge_scan_image = h_edge_scan_img | v_edge_scan_img\n",
        "        return edge_scan_image, h_edge_scan_img, v_edge_scan_img"
      ],
      "metadata": {
        "id": "w5TPkK0RVnOV"
      },
      "id": "w5TPkK0RVnOV",
      "execution_count": 177,
      "outputs": []
    },
    {
      "cell_type": "code",
      "source": [
        "FRQIEncoder = FRQI()\n",
        "img = image3\n",
        "FRQIEncoder.encode(img)\n",
        "# outimage = FRQIEncoder.decode('aer_simulator', shots=2**24)\n",
        "outimage,h,v = FRQIEncoder.detectEdges()\n",
        "showdiff(FRQIEncoder, img, h, v, img^h, img^v, outimage)"
      ],
      "metadata": {
        "colab": {
          "base_uri": "https://localhost:8080/",
          "height": 132
        },
        "id": "aXI2hp_nVfWF",
        "outputId": "f339aacf-cfa6-4ef9-bde2-4a7f2706642d"
      },
      "id": "aXI2hp_nVfWF",
      "execution_count": 175,
      "outputs": [
        {
          "output_type": "display_data",
          "data": {
            "text/plain": [
              "<Figure size 640x480 with 6 Axes>"
            ],
            "image/png": "[encoded data removed]"
          },
          "metadata": {}
        }
      ]
    },
    {
      "cell_type": "code",
      "source": [
        "FRQIEncoder = FRQI()\n",
        "img = image3\n",
        "FRQIEncoder.encode(img)\n",
        "# outimage = FRQIEncoder.decode('aer_simulator', shots=2**24)\n",
        "outimage,h,v = FRQIEncoder.detectEdges()\n",
        "showdiff(FRQIEncoder, img, h, v, img^h, img^v, outimage)"
      ],
      "metadata": {
        "colab": {
          "base_uri": "https://localhost:8080/",
          "height": 132
        },
        "outputId": "5092e91f-a5aa-4f95-f3dd-dd16734d12cc",
        "id": "8nTn5pSqN0U0"
      },
      "execution_count": 176,
      "outputs": [
        {
          "output_type": "display_data",
          "data": {
            "text/plain": [
              "<Figure size 640x480 with 6 Axes>"
            ],
            "image/png": "[encoded data removed]"
          },
          "metadata": {}
        }
      ],
      "id": "8nTn5pSqN0U0"
    },
    {
      "cell_type": "code",
      "source": [
        "FRQIEncoder = FRQI()\n",
        "img = image3\n",
        "FRQIEncoder.encode(img)\n",
        "# outimage = FRQIEncoder.decode('aer_simulator', shots=2**24)\n",
        "outimage,h,v = FRQIEncoder.detectEdges()\n",
        "showdiff(FRQIEncoder, img, h, v, img^h, img^v, outimage)"
      ],
      "metadata": {
        "colab": {
          "base_uri": "https://localhost:8080/",
          "height": 132
        },
        "outputId": "cabdbd68-e8be-4d71-aec9-f42bbddc2ec5",
        "id": "YQDck0mrOM5C"
      },
      "execution_count": 167,
      "outputs": [
        {
          "output_type": "display_data",
          "data": {
            "text/plain": [
              "<Figure size 640x480 with 6 Axes>"
            ],
            "image/png": "[encoded data removed]"
          },
          "metadata": {}
        }
      ],
      "id": "YQDck0mrOM5C"
    },
    {
      "cell_type": "markdown",
      "source": [
        "#Sobel"
      ],
      "metadata": {
        "id": "LJbEFG81R9_T"
      },
      "id": "LJbEFG81R9_T"
    },
    {
      "cell_type": "code",
      "source": [
        "img = numpy.array(image5)\n",
        "size = 32\n",
        "img = resize(img, (size, size), order=1, preserve_range=True, anti_aliasing=False).astype(numpy.uint8)\n",
        "\n",
        "Gx = numpy.array([[-1, 0, 1],\n",
        "                [-2, 0, 2],\n",
        "                [-1, 0, 1]])\n",
        "Gy = numpy.array([[-1, -2, -1],\n",
        "                [ 0,  0,  0],\n",
        "                [ 1,  2,  1]])\n",
        "\n",
        "rows, cols = img.shape\n",
        "\n",
        "gradient_x = numpy.zeros_like(img, dtype=float)\n",
        "gradient_y = numpy.zeros_like(img, dtype=float)\n",
        "gradient_magnitude = numpy.zeros_like(img, dtype=float)\n",
        "\n",
        "for i in range(1, rows - 1):\n",
        "    for j in range(1, cols - 1):\n",
        "        region = img[i-1:i+2, j-1:j+2]\n",
        "        gradient_x[i, j] = numpy.sum(region * Gx)\n",
        "        gradient_y[i, j] = numpy.sum(region * Gy)\n",
        "\n",
        "gradient_magnitude = numpy.sqrt(gradient_x**2 + gradient_y**2)\n",
        "\n",
        "gradient_magnitude = (gradient_magnitude / gradient_magnitude.max()) * 255\n",
        "edges = (gradient_magnitude > 200).astype(numpy.uint8)\n",
        "\n",
        "showdiff(None, img, edges)"
      ],
      "metadata": {
        "colab": {
          "base_uri": "https://localhost:8080/",
          "height": 288
        },
        "id": "Z2kAE0gER_-e",
        "outputId": "a4cd2a8f-dbf7-46e7-993e-a8de4bfd14dd"
      },
      "id": "Z2kAE0gER_-e",
      "execution_count": 163,
      "outputs": [
        {
          "output_type": "display_data",
          "data": {
            "text/plain": [
              "<Figure size 640x480 with 2 Axes>"
            ],
            "image/png": "[encoded data removed]"
          },
          "metadata": {}
        }
      ]
    }
  ],
  "metadata": {
    "kernelspec": {
      "display_name": "Python 3",
      "language": "python",
      "name": "python3"
    },
    "language_info": {
      "codemirror_mode": {
        "name": "ipython",
        "version": 3
      },
      "file_extension": ".py",
      "mimetype": "text/x-python",
      "name": "python",
      "nbconvert_exporter": "python",
      "pygments_lexer": "ipython3",
      "version": "3.9"
    },
    "colab": {
      "provenance": [],
      "collapsed_sections": [
        "1t-r6w24lnQV",
        "tfjXwXEC1iUC",
        "FaQLe-5LuNzE"
      ]
    }
  },
  "nbformat": 4,
  "nbformat_minor": 5
}